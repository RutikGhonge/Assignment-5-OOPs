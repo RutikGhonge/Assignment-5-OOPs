{
 "cells": [
  {
   "cell_type": "markdown",
   "id": "fe5b46a2",
   "metadata": {},
   "source": [
    "### Use should be able to find the nth power of the x.(i.e x*x*x*x...n times)\n",
    "\n",
    "### You must implement it using Class\n",
    "\n",
    "#### Sample Input:\n",
    "\n",
    "#### x: 10\n",
    "\n",
    "#### n: 2"
   ]
  },
  {
   "cell_type": "code",
   "execution_count": 2,
   "id": "d8a28077",
   "metadata": {},
   "outputs": [
    {
     "name": "stdout",
     "output_type": "stream",
     "text": [
      "Enter Number : 10\n",
      "Enter Power : 2\n",
      "100\n"
     ]
    }
   ],
   "source": [
    "class Power_Finder:\n",
    "    def __init__(self):\n",
    "        self.x=int(input(\"Enter Number : \"))\n",
    "        self.n=int(input(\"Enter Power : \"))\n",
    "        \n",
    "    def power(self):\n",
    "            \n",
    "        P=pow(self.x,self.n)\n",
    "        print(P)\n",
    "        \n",
    "        \n",
    "\n",
    "X=Power_Finder()\n",
    "X.power()"
   ]
  },
  {
   "cell_type": "code",
   "execution_count": null,
   "id": "10961c1e",
   "metadata": {},
   "outputs": [],
   "source": []
  }
 ],
 "metadata": {
  "kernelspec": {
   "display_name": "Python 3 (ipykernel)",
   "language": "python",
   "name": "python3"
  },
  "language_info": {
   "codemirror_mode": {
    "name": "ipython",
    "version": 3
   },
   "file_extension": ".py",
   "mimetype": "text/x-python",
   "name": "python",
   "nbconvert_exporter": "python",
   "pygments_lexer": "ipython3",
   "version": "3.10.0"
  }
 },
 "nbformat": 4,
 "nbformat_minor": 5
}
